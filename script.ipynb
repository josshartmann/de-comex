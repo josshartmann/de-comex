{
 "cells": [
  {
   "cell_type": "markdown",
   "id": "1e66df41",
   "metadata": {},
   "source": [
    "**Análise de Comércio Exterior - Base de Dados Detalhada por NCM**\n",
    "\n",
    "Este notebook contém um código para análise de dados de comércio exterior utilizando a base de dados detalhada por NCM (Nomenclatura Comum do Mercosul). Os dados utilizados são obtidos a partir do link: [https://www.gov.br/produtividade-e-comercio-exterior/pt-br/assuntos/comercio-exterior/estatisticas/base-de-dados-bruta](https://www.gov.br/produtividade-e-comercio-exterior/pt-br/assuntos/comercio-exterior/estatisticas/base-de-dados-bruta).\n",
    "\n",
    "O objetivo deste código é processar os arquivos CSV contendo dados de importação e exportação e realizar análises agregadas por estado, mês e NCM. As etapas principais do código são as seguintes:\n",
    "\n",
    "1. Carregar os arquivos de importação e exportação em formato CSV.\n",
    "2. Filtrar as colunas relevantes para cada arquivo.\n",
    "3. Agrupar os dados de exportação por estado, mês e NCM.\n",
    "4. Agrupar os dados de importação por estado, mês e NCM.\n",
    "5. Obter a lista de estados únicos presentes nos dados.\n",
    "6. Processar os dados para cada estado.\n",
    "7. Filtrar os dados por estado e mês.\n",
    "8. Combinar os dados de exportação e importação.\n",
    "9. Calcular o valor líquido (exportação - importação).\n",
    "10. Armazenar os dados processados em um dicionário.\n",
    "11. Criar um DataFrame para cada estado com os dados de cada mês.\n",
    "12. Calcular os somatórios anuais.\n",
    "13. Salvar os resultados em arquivos CSV separados por estado.\n",
    "\n",
    "Certifique-se de que os arquivos de importação e exportação estão presentes no local especificado pelos paths no código, substituindo \"PATH_DO_ARQUIVO_IMP.csv\" e \"PATH_DO_ARQUIVO_EXP.csv\" pelos caminhos corretos. O resultado da análise será salvo no diretório de saída especificado.\n",
    "\n",
    "Execute o código sequencialmente para processar os dados e gerar as análises agregadas por estado, mês e NCM. Os resultados serão salvos em arquivos CSV individuais para cada estado.\n",
    "\n",
    "Caso deseje utilizar outros arquivos de dados, certifique-se de que eles estejam no formato CSV e contenham as colunas necessárias para o processamento."
   ]
  },
  {
   "cell_type": "code",
   "execution_count": 3,
   "id": "63789771",
   "metadata": {},
   "outputs": [],
   "source": [
    "import pandas as pd\n",
    "from collections import defaultdict"
   ]
  },
  {
   "cell_type": "markdown",
   "id": "412b9b2b",
   "metadata": {},
   "source": [
    "### Definir os paths dos arquivos de entrada e diretório de saída"
   ]
  },
  {
   "cell_type": "code",
   "execution_count": null,
   "id": "f0b38646",
   "metadata": {},
   "outputs": [],
   "source": [
    "df_imp_path = \"PATH_DO_ARQUIVO_IMP.csv\"\n",
    "df_exp_path = \"PATH_DO_ARQUIVO_EXP.csv\"\n",
    "output_dir = \"PATH_DO_DIRETORIO_DE_SAIDA\""
   ]
  },
  {
   "cell_type": "markdown",
   "id": "1732e447",
   "metadata": {},
   "source": [
    "### Carregar os arquivos .csv"
   ]
  },
  {
   "cell_type": "code",
   "execution_count": 4,
   "id": "7c4a66ec",
   "metadata": {},
   "outputs": [],
   "source": [
    "df_imp = pd.read_csv(df_imp_path, delimiter=\";\", dtype={\"CO_NCM\": str})\n",
    "df_exp = pd.read_csv(df_exp_path, delimiter=\";\", dtype={\"CO_NCM\": str})"
   ]
  },
  {
   "cell_type": "markdown",
   "id": "ec0dfa68",
   "metadata": {},
   "source": [
    "### Filtrar as colunas relevantes para cada arquivo"
   ]
  },
  {
   "cell_type": "code",
   "execution_count": 5,
   "id": "bcfb1798",
   "metadata": {},
   "outputs": [],
   "source": [
    "df_imp = df_imp[[\"SG_UF_NCM\", \"CO_MES\", \"CO_NCM\", \"VL_FOB\"]]\n",
    "df_exp = df_exp[[\"SG_UF_NCM\", \"CO_MES\", \"CO_NCM\", \"VL_FOB\"]]"
   ]
  },
  {
   "cell_type": "markdown",
   "id": "95a79b21",
   "metadata": {},
   "source": [
    "### Agrupar dados de exportação por estado, mês e NCM"
   ]
  },
  {
   "cell_type": "code",
   "execution_count": 6,
   "id": "884f2258",
   "metadata": {},
   "outputs": [],
   "source": [
    "grouped_exp = df_exp.groupby([\"SG_UF_NCM\", \"CO_MES\", \"CO_NCM\"], as_index=False)[\"VL_FOB\"].sum()"
   ]
  },
  {
   "cell_type": "markdown",
   "id": "705b8456",
   "metadata": {},
   "source": [
    "### Agrupar dados de importação por estado, mês e NCM"
   ]
  },
  {
   "cell_type": "code",
   "execution_count": 7,
   "id": "6d4a8f4d",
   "metadata": {},
   "outputs": [],
   "source": [
    "grouped_imp = df_imp.groupby([\"SG_UF_NCM\", \"CO_MES\", \"CO_NCM\"], as_index=False)[\"VL_FOB\"].sum()"
   ]
  },
  {
   "cell_type": "markdown",
   "id": "62595dd5",
   "metadata": {},
   "source": [
    "### Obter a lista de estados únicos"
   ]
  },
  {
   "cell_type": "code",
   "execution_count": 8,
   "id": "99f95d70",
   "metadata": {},
   "outputs": [],
   "source": [
    "estados = set(df_imp[\"SG_UF_NCM\"].unique()) | set(df_exp[\"SG_UF_NCM\"].unique())"
   ]
  },
  {
   "cell_type": "markdown",
   "id": "1b8e5db4",
   "metadata": {},
   "source": [
    "### Criar um dicionário para armazenar os dados de cada estado e mês"
   ]
  },
  {
   "cell_type": "code",
   "execution_count": 9,
   "id": "26a2d51e",
   "metadata": {},
   "outputs": [],
   "source": [
    "dados_estados = defaultdict(dict)"
   ]
  },
  {
   "cell_type": "markdown",
   "id": "49ed9217",
   "metadata": {},
   "source": [
    "### Processar os dados para cada estado"
   ]
  },
  {
   "cell_type": "code",
   "execution_count": 10,
   "id": "00cd5316",
   "metadata": {},
   "outputs": [],
   "source": [
    "for estado in estados:\n",
    "    # Filtrar dados por estado\n",
    "    df_exp_estado = grouped_exp[grouped_exp[\"SG_UF_NCM\"] == estado]\n",
    "    df_imp_estado = grouped_imp[grouped_imp[\"SG_UF_NCM\"] == estado]\n",
    "\n",
    "    # Obter a lista de meses únicos\n",
    "    meses = set(df_imp_estado[\"CO_MES\"].unique()) | set(df_exp_estado[\"CO_MES\"].unique())\n",
    "\n",
    "    # Processar os dados para cada mês\n",
    "    for mes in meses:\n",
    "        # Filtrar dados por mês\n",
    "        df_exp_mes = df_exp_estado[df_exp_estado[\"CO_MES\"] == mes]\n",
    "        df_imp_mes = df_imp_estado[df_imp_estado[\"CO_MES\"] == mes]\n",
    "\n",
    "        # Combinar dados de exportação e importação\n",
    "        df_mes = df_exp_mes.merge(df_imp_mes, on=\"CO_NCM\", how=\"outer\", suffixes=[\"_EXP\", \"_IMP\"])\n",
    "\n",
    "        # Calcular o valor líquido (exportação - importação)\n",
    "        df_mes[\"VL_LIQUIDO\"] = df_mes[\"VL_FOB_EXP\"].fillna(0) - df_mes[\"VL_FOB_IMP\"].fillna(0)\n",
    "\n",
    "        # Obter os dados para o mês atual\n",
    "        dados_mes_atual = df_mes[[\"CO_NCM\", \"VL_FOB_EXP\", \"VL_FOB_IMP\", \"VL_LIQUIDO\"]]\n",
    "\n",
    "        # Armazenar os dados do mês atual no dicionário de meses\n",
    "        dados_estados[estado][mes] = dados_mes_atual"
   ]
  },
  {
   "cell_type": "markdown",
   "id": "3f45fb84",
   "metadata": {},
   "source": [
    "### Criar um DataFrame para cada estado com os dados de cada mês"
   ]
  },
  {
   "cell_type": "code",
   "execution_count": 11,
   "id": "ffaa0b2a",
   "metadata": {},
   "outputs": [],
   "source": [
    "for estado, dados_meses in dados_estados.items():\n",
    "    df_estado = pd.DataFrame(columns=[\"CO_NCM\"])\n",
    "    for mes, dados_mes in dados_meses.items():\n",
    "        df_mes = dados_mes.rename(columns={\"VL_FOB_EXP\": f\"exp_{mes}\", \"VL_FOB_IMP\": f\"imp_{mes}\", \"VL_LIQUIDO\": f\"net_{mes}\"})\n",
    "        df_estado = df_estado.merge(df_mes, on=\"CO_NCM\", how=\"outer\")\n",
    "\n",
    "    # Calcular os somatórios anuais\n",
    "    df_estado[\"exp_total\"] = df_estado.filter(like=\"exp_\").sum(axis=1)\n",
    "    df_estado[\"imp_total\"] = df_estado.filter(like=\"imp_\").sum(axis=1)\n",
    "    df_estado[\"net_total\"] = df_estado[\"exp_total\"] - df_estado[\"imp_total\"]\n",
    "\n",
    "    # Salvar o DataFrame como arquivo CSV\n",
    "    output_path = f\"{output_dir}/{estado}.csv\"\n",
    "    df_estado.to_csv(output_path, index=False)"
   ]
  }
 ],
 "metadata": {
  "kernelspec": {
   "display_name": "Python 3 (ipykernel)",
   "language": "python",
   "name": "python3"
  },
  "language_info": {
   "codemirror_mode": {
    "name": "ipython",
    "version": 3
   },
   "file_extension": ".py",
   "mimetype": "text/x-python",
   "name": "python",
   "nbconvert_exporter": "python",
   "pygments_lexer": "ipython3",
   "version": "3.10.9"
  }
 },
 "nbformat": 4,
 "nbformat_minor": 5
}
